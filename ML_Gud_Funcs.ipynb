{
  "nbformat": 4,
  "nbformat_minor": 0,
  "metadata": {
    "colab": {
      "provenance": [],
      "authorship_tag": "ABX9TyNP5rLsp/zVHw9uxumdFawM",
      "include_colab_link": true
    },
    "kernelspec": {
      "name": "python3",
      "display_name": "Python 3"
    },
    "language_info": {
      "name": "python"
    }
  },
  "cells": [
    {
      "cell_type": "markdown",
      "metadata": {
        "id": "view-in-github",
        "colab_type": "text"
      },
      "source": [
        "<a href=\"https://colab.research.google.com/github/Mohit-921/DataScienceDump/blob/main/ML_Gud_Funcs.ipynb\" target=\"_parent\"><img src=\"https://colab.research.google.com/assets/colab-badge.svg\" alt=\"Open In Colab\"/></a>"
      ]
    },
    {
      "cell_type": "code",
      "source": [
        "import seaborn as sns\n",
        "df = sns.load_dataset('tips')\n",
        "#dummy dataset for visualisation"
      ],
      "metadata": {
        "id": "6Fb-YUbUyj_k"
      },
      "execution_count": 1,
      "outputs": []
    },
    {
      "cell_type": "code",
      "execution_count": 2,
      "metadata": {
        "colab": {
          "base_uri": "https://localhost:8080/",
          "height": 143
        },
        "id": "L4i9O-tbyavs",
        "outputId": "53050f68-047b-4416-becd-bc46ad914edb"
      },
      "outputs": [
        {
          "output_type": "execute_result",
          "data": {
            "text/plain": [
              "<pandas.io.formats.style.Styler at 0x7cc7c0957c10>"
            ],
            "text/html": [
              "<style type=\"text/css\">\n",
              "#T_1854d_row0_col0, #T_1854d_row1_col0, #T_1854d_row1_col3, #T_1854d_row1_col4, #T_1854d_row2_col0, #T_1854d_row2_col1, #T_1854d_row2_col2, #T_1854d_row2_col3, #T_1854d_row2_col4, #T_1854d_row2_col5, #T_1854d_row2_col6, #T_1854d_row2_col7 {\n",
              "  background-color: #f7fcf5;\n",
              "  color: #000000;\n",
              "}\n",
              "#T_1854d_row0_col1, #T_1854d_row0_col2, #T_1854d_row0_col3, #T_1854d_row0_col4, #T_1854d_row0_col5, #T_1854d_row0_col6, #T_1854d_row0_col7 {\n",
              "  background-color: #00441b;\n",
              "  color: #f1f1f1;\n",
              "}\n",
              "#T_1854d_row1_col1, #T_1854d_row1_col6 {\n",
              "  background-color: #f4fbf1;\n",
              "  color: #000000;\n",
              "}\n",
              "#T_1854d_row1_col2 {\n",
              "  background-color: #f0f9ec;\n",
              "  color: #000000;\n",
              "}\n",
              "#T_1854d_row1_col5 {\n",
              "  background-color: #eff9ec;\n",
              "  color: #000000;\n",
              "}\n",
              "#T_1854d_row1_col7 {\n",
              "  background-color: #ebf7e7;\n",
              "  color: #000000;\n",
              "}\n",
              "</style>\n",
              "<table id=\"T_1854d\" class=\"dataframe\">\n",
              "  <thead>\n",
              "    <tr>\n",
              "      <th class=\"blank level0\" >&nbsp;</th>\n",
              "      <th id=\"T_1854d_level0_col0\" class=\"col_heading level0 col0\" >count</th>\n",
              "      <th id=\"T_1854d_level0_col1\" class=\"col_heading level0 col1\" >mean</th>\n",
              "      <th id=\"T_1854d_level0_col2\" class=\"col_heading level0 col2\" >std</th>\n",
              "      <th id=\"T_1854d_level0_col3\" class=\"col_heading level0 col3\" >min</th>\n",
              "      <th id=\"T_1854d_level0_col4\" class=\"col_heading level0 col4\" >25%</th>\n",
              "      <th id=\"T_1854d_level0_col5\" class=\"col_heading level0 col5\" >50%</th>\n",
              "      <th id=\"T_1854d_level0_col6\" class=\"col_heading level0 col6\" >75%</th>\n",
              "      <th id=\"T_1854d_level0_col7\" class=\"col_heading level0 col7\" >max</th>\n",
              "    </tr>\n",
              "  </thead>\n",
              "  <tbody>\n",
              "    <tr>\n",
              "      <th id=\"T_1854d_level0_row0\" class=\"row_heading level0 row0\" >total_bill</th>\n",
              "      <td id=\"T_1854d_row0_col0\" class=\"data row0 col0\" >244.000000</td>\n",
              "      <td id=\"T_1854d_row0_col1\" class=\"data row0 col1\" >19.785943</td>\n",
              "      <td id=\"T_1854d_row0_col2\" class=\"data row0 col2\" >8.902412</td>\n",
              "      <td id=\"T_1854d_row0_col3\" class=\"data row0 col3\" >3.070000</td>\n",
              "      <td id=\"T_1854d_row0_col4\" class=\"data row0 col4\" >13.347500</td>\n",
              "      <td id=\"T_1854d_row0_col5\" class=\"data row0 col5\" >17.795000</td>\n",
              "      <td id=\"T_1854d_row0_col6\" class=\"data row0 col6\" >24.127500</td>\n",
              "      <td id=\"T_1854d_row0_col7\" class=\"data row0 col7\" >50.810000</td>\n",
              "    </tr>\n",
              "    <tr>\n",
              "      <th id=\"T_1854d_level0_row1\" class=\"row_heading level0 row1\" >tip</th>\n",
              "      <td id=\"T_1854d_row1_col0\" class=\"data row1 col0\" >244.000000</td>\n",
              "      <td id=\"T_1854d_row1_col1\" class=\"data row1 col1\" >2.998279</td>\n",
              "      <td id=\"T_1854d_row1_col2\" class=\"data row1 col2\" >1.383638</td>\n",
              "      <td id=\"T_1854d_row1_col3\" class=\"data row1 col3\" >1.000000</td>\n",
              "      <td id=\"T_1854d_row1_col4\" class=\"data row1 col4\" >2.000000</td>\n",
              "      <td id=\"T_1854d_row1_col5\" class=\"data row1 col5\" >2.900000</td>\n",
              "      <td id=\"T_1854d_row1_col6\" class=\"data row1 col6\" >3.562500</td>\n",
              "      <td id=\"T_1854d_row1_col7\" class=\"data row1 col7\" >10.000000</td>\n",
              "    </tr>\n",
              "    <tr>\n",
              "      <th id=\"T_1854d_level0_row2\" class=\"row_heading level0 row2\" >size</th>\n",
              "      <td id=\"T_1854d_row2_col0\" class=\"data row2 col0\" >244.000000</td>\n",
              "      <td id=\"T_1854d_row2_col1\" class=\"data row2 col1\" >2.569672</td>\n",
              "      <td id=\"T_1854d_row2_col2\" class=\"data row2 col2\" >0.951100</td>\n",
              "      <td id=\"T_1854d_row2_col3\" class=\"data row2 col3\" >1.000000</td>\n",
              "      <td id=\"T_1854d_row2_col4\" class=\"data row2 col4\" >2.000000</td>\n",
              "      <td id=\"T_1854d_row2_col5\" class=\"data row2 col5\" >2.000000</td>\n",
              "      <td id=\"T_1854d_row2_col6\" class=\"data row2 col6\" >3.000000</td>\n",
              "      <td id=\"T_1854d_row2_col7\" class=\"data row2 col7\" >6.000000</td>\n",
              "    </tr>\n",
              "  </tbody>\n",
              "</table>\n"
            ]
          },
          "metadata": {},
          "execution_count": 2
        }
      ],
      "source": [
        "#1 Colorful Table\n",
        "\n",
        "df.describe().T.style.background_gradient(cmap='Greens')\n",
        "# Gives a colorful table, with higher the value-deeper the shade"
      ]
    },
    {
      "cell_type": "code",
      "source": [
        "#2 Joining 2 dataframes\n",
        "df3 = df2.join(df1)\n",
        "\n",
        "#https://pandas.pydata.org/docs/reference/api/pandas.DataFrame.join.html"
      ],
      "metadata": {
        "id": "XyBOGtWMyuK9"
      },
      "execution_count": null,
      "outputs": []
    },
    {
      "cell_type": "code",
      "source": [
        "# Check substring in coloumn\n",
        "\n",
        "df['col_name'].str.contains('string')\n",
        "\n",
        "#https://pandas.pydata.org/docs/reference/api/pandas.Series.str.contains.html"
      ],
      "metadata": {
        "id": "5tH9S_9zzaQH"
      },
      "execution_count": null,
      "outputs": []
    }
  ]
}